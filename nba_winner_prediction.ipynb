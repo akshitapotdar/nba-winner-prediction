{
  "cells": [
    {
      "cell_type": "code",
      "execution_count": null,
      "id": "d69014c0-9266-4c89-867b-29eefec97a98",
      "metadata": {
        "id": "d69014c0-9266-4c89-867b-29eefec97a98"
      },
      "outputs": [],
      "source": [
        "import os\n",
        "\n",
        "SEASONS = list(range(2016,2023))\n",
        "\n",
        "DATA_DIR = \"data\"\n",
        "STANDINGS_DIR = os.path.join(DATA_DIR, \"standings\")\n",
        "SCORES_DIR = os.path.join(DATA_DIR, \"scores\")"
      ]
    },
    {
      "cell_type": "code",
      "execution_count": null,
      "id": "945b9b93-a0b0-474a-8e4a-1b613983c2b8",
      "metadata": {
        "id": "945b9b93-a0b0-474a-8e4a-1b613983c2b8",
        "outputId": "cef1a0a0-03e5-4712-9944-f2afed9d3080"
      },
      "outputs": [
        {
          "data": {
            "text/plain": [
              "[2016, 2017, 2018, 2019, 2020, 2021, 2022]"
            ]
          },
          "execution_count": 2,
          "metadata": {},
          "output_type": "execute_result"
        }
      ],
      "source": [
        "SEASONS"
      ]
    },
    {
      "cell_type": "code",
      "execution_count": null,
      "id": "ded5e28c-c7df-418e-8b15-a169a2f02111",
      "metadata": {
        "id": "ded5e28c-c7df-418e-8b15-a169a2f02111",
        "outputId": "3caa6cfb-dee5-4b34-cc3d-ce720a38edc0"
      },
      "outputs": [
        {
          "ename": "ModuleNotFoundError",
          "evalue": "No module named 'bs4'",
          "output_type": "error",
          "traceback": [
            "\u001b[1;31m---------------------------------------------------------------------------\u001b[0m",
            "\u001b[1;31mModuleNotFoundError\u001b[0m                       Traceback (most recent call last)",
            "Cell \u001b[1;32mIn[3], line 1\u001b[0m\n\u001b[1;32m----> 1\u001b[0m \u001b[38;5;28;01mfrom\u001b[39;00m \u001b[38;5;21;01mbs4\u001b[39;00m \u001b[38;5;28;01mimport\u001b[39;00m BeautifulSoup\n\u001b[0;32m      2\u001b[0m \u001b[38;5;28;01mfrom\u001b[39;00m \u001b[38;5;21;01mplaywright\u001b[39;00m\u001b[38;5;21;01m.\u001b[39;00m\u001b[38;5;21;01masync_api\u001b[39;00m \u001b[38;5;28;01mimport\u001b[39;00m async_playwright, \u001b[38;5;167;01mTimeoutError\u001b[39;00m \u001b[38;5;28;01mas\u001b[39;00m PlaywrightTimeout\n\u001b[0;32m      3\u001b[0m \u001b[38;5;28;01mimport\u001b[39;00m \u001b[38;5;21;01mtime\u001b[39;00m\n",
            "\u001b[1;31mModuleNotFoundError\u001b[0m: No module named 'bs4'"
          ]
        }
      ],
      "source": [
        "from bs4 import BeautifulSoup\n",
        "from playwright.async_api import async_playwright, TimeoutError as PlaywrightTimeout\n",
        "import time\n",
        "# Make sure to install playwright browsers by running playwright install on the command line or !playwright install from Jupyter"
      ]
    },
    {
      "cell_type": "code",
      "execution_count": null,
      "id": "fb125fef-268f-4d50-a3db-ed798fe90369",
      "metadata": {
        "id": "fb125fef-268f-4d50-a3db-ed798fe90369"
      },
      "outputs": [],
      "source": [
        "async def get_html(url, selector, sleep=5, retries=3):\n",
        "    html = None\n",
        "    for i in range(1, retries+1):\n",
        "        time.sleep(sleep * i)\n",
        "        try:\n",
        "            async with async_playwright() as p:\n",
        "                browser = await p.chromium.launch()\n",
        "                page = await browser.new_page()\n",
        "                await page.goto(url)\n",
        "                print(await page.title())\n",
        "                html = await page.inner_html(selector)\n",
        "        except PlaywrightTimeout:\n",
        "            print(f\"Timeout error on {url}\")\n",
        "            continue\n",
        "        else:\n",
        "            break\n",
        "    return html"
      ]
    },
    {
      "cell_type": "code",
      "execution_count": null,
      "id": "5b810f31-5713-4d60-94b5-be2fbd0e0338",
      "metadata": {
        "id": "5b810f31-5713-4d60-94b5-be2fbd0e0338"
      },
      "outputs": [],
      "source": [
        "async def scrape_season(season):\n",
        "    url = f\"https://www.basketball-reference.com/leagues/NBA_{season}_games.html\"\n",
        "    html = await get_html(url, \"#content .filter\")\n",
        "\n",
        "    soup = BeautifulSoup(html)\n",
        "    links = soup.find_all(\"a\")\n",
        "    standings_pages = [f\"https://www.basketball-reference.com{l['href']}\" for l in links]\n",
        "\n",
        "    for url in standings_pages:\n",
        "        save_path = os.path.join(STANDINGS_DIR, url.split(\"/\")[-1])\n",
        "        if os.path.exists(save_path):\n",
        "            continue\n",
        "\n",
        "        html = await get_html(url, \"#all_schedule\")\n",
        "        with open(save_path, \"w+\") as f:\n",
        "            f.write(html)"
      ]
    },
    {
      "cell_type": "code",
      "execution_count": null,
      "id": "fc42da87-4b10-4331-9fa0-aa2c29827289",
      "metadata": {
        "id": "fc42da87-4b10-4331-9fa0-aa2c29827289",
        "outputId": "9cf965d4-120b-4288-b594-e7cb0a94f760"
      },
      "outputs": [
        {
          "name": "stdout",
          "output_type": "stream",
          "text": [
            "2015-16 NBA Schedule | Basketball-Reference.com\n",
            "2016-17 NBA Schedule | Basketball-Reference.com\n",
            "2017-18 NBA Schedule | Basketball-Reference.com\n",
            "2018-19 NBA Schedule | Basketball-Reference.com\n",
            "2019-20 NBA Schedule | Basketball-Reference.com\n",
            "2019-20 NBA Schedule | Basketball-Reference.com\n",
            "2020-21 NBA Schedule | Basketball-Reference.com\n",
            "2020-21 NBA Schedule | Basketball-Reference.com\n",
            "2020-21 NBA Schedule | Basketball-Reference.com\n",
            "2020-21 NBA Schedule | Basketball-Reference.com\n",
            "2020-21 NBA Schedule | Basketball-Reference.com\n",
            "2020-21 NBA Schedule | Basketball-Reference.com\n",
            "2020-21 NBA Schedule | Basketball-Reference.com\n",
            "2020-21 NBA Schedule | Basketball-Reference.com\n",
            "2020-21 NBA Schedule | Basketball-Reference.com\n",
            "2021-22 NBA Schedule | Basketball-Reference.com\n",
            "2021-22 NBA Schedule | Basketball-Reference.com\n",
            "2021-22 NBA Schedule | Basketball-Reference.com\n",
            "2021-22 NBA Schedule | Basketball-Reference.com\n",
            "2021-22 NBA Schedule | Basketball-Reference.com\n",
            "2021-22 NBA Schedule | Basketball-Reference.com\n",
            "2021-22 NBA Schedule | Basketball-Reference.com\n",
            "2021-22 NBA Schedule | Basketball-Reference.com\n",
            "2021-22 NBA Schedule | Basketball-Reference.com\n",
            "2021-22 NBA Schedule | Basketball-Reference.com\n"
          ]
        }
      ],
      "source": [
        "for season in SEASONS:\n",
        "    await scrape_season(season)"
      ]
    },
    {
      "cell_type": "code",
      "execution_count": null,
      "id": "3baa481a-38fa-4045-a679-b02b1d92ef0a",
      "metadata": {
        "id": "3baa481a-38fa-4045-a679-b02b1d92ef0a"
      },
      "outputs": [],
      "source": [
        "standings_files = os.listdir(STANDINGS_DIR)"
      ]
    },
    {
      "cell_type": "code",
      "execution_count": null,
      "id": "8948c800-acbe-43c8-b213-f348eb11d4c7",
      "metadata": {
        "id": "8948c800-acbe-43c8-b213-f348eb11d4c7"
      },
      "outputs": [],
      "source": [
        "async def scrape_game(standings_file):\n",
        "    with open(standings_file, 'r') as f:\n",
        "        html = f.read()\n",
        "\n",
        "    soup = BeautifulSoup(html)\n",
        "    links = soup.find_all(\"a\")\n",
        "    hrefs = [l.get('href') for l in links]\n",
        "    box_scores = [f\"https://www.basketball-reference.com{l}\" for l in hrefs if l and \"boxscore\" in l and '.html' in l]\n",
        "\n",
        "    for url in box_scores:\n",
        "        save_path = os.path.join(SCORES_DIR, url.split(\"/\")[-1])\n",
        "        if os.path.exists(save_path):\n",
        "            continue\n",
        "\n",
        "        html = await get_html(url, \"#content\")\n",
        "        if not html:\n",
        "            continue\n",
        "        with open(save_path, \"w+\") as f:\n",
        "            f.write(html)"
      ]
    },
    {
      "cell_type": "code",
      "execution_count": null,
      "id": "c6c23fb4-88af-4d34-87fd-8753e43fb4fe",
      "metadata": {
        "id": "c6c23fb4-88af-4d34-87fd-8753e43fb4fe"
      },
      "outputs": [],
      "source": [
        "import pandas as pd\n",
        "\n",
        "for season in SEASONS:\n",
        "    files = [s for s in standings_files if str(season) in s]\n",
        "\n",
        "    for f in files:\n",
        "        filepath = os.path.join(STANDINGS_DIR, f)\n",
        "\n",
        "        await scrape_game(filepath)"
      ]
    }
  ],
  "metadata": {
    "kernelspec": {
      "display_name": "Python 3",
      "language": "python",
      "name": "python3"
    },
    "language_info": {
      "codemirror_mode": {
        "name": "ipython",
        "version": 3
      },
      "file_extension": ".py",
      "mimetype": "text/x-python",
      "name": "python",
      "nbconvert_exporter": "python",
      "pygments_lexer": "ipython3",
      "version": "3.12.4"
    },
    "colab": {
      "provenance": []
    }
  },
  "nbformat": 4,
  "nbformat_minor": 5
}